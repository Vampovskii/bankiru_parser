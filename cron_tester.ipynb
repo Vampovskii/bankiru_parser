{
 "cells": [
  {
   "cell_type": "code",
   "execution_count": 4,
   "id": "ec951d38",
   "metadata": {
    "scrolled": true
   },
   "outputs": [
    {
     "data": {
      "text/plain": [
       "1"
      ]
     },
     "execution_count": 4,
     "metadata": {},
     "output_type": "execute_result"
    }
   ],
   "source": [
    "import pandas as pd\n",
    "import datetime\n",
    "import pymysql\n",
    "from sqlalchemy import create_engine\n",
    "\n",
    "DB_HOST = 'localhost'\n",
    "DB_NAME = 'analytics'\n",
    "DB_LOGIN = 'root'\n",
    "DB_PASS = 'root'\n",
    "TABLE_NAME = 'cron_testing'\n",
    "\n",
    "engine = create_engine('mysql+pymysql://{0}:{1}@{2}/{3}'.format(DB_LOGIN, DB_PASS, DB_HOST, DB_NAME))\n",
    "\n",
    "pd.DataFrame({\n",
    "                'datetime':[datetime.datetime.now()],\n",
    "                'message':['daemon cron works']\n",
    "            }).to_sql(TABLE_NAME,con = engine,if_exists='append',index=False)"
   ]
  }
 ],
 "metadata": {
  "kernelspec": {
   "display_name": "skil1box",
   "language": "python",
   "name": "skil1box"
  },
  "language_info": {
   "codemirror_mode": {
    "name": "ipython",
    "version": 3
   },
   "file_extension": ".py",
   "mimetype": "text/x-python",
   "name": "python",
   "nbconvert_exporter": "python",
   "pygments_lexer": "ipython3",
   "version": "3.10.6"
  }
 },
 "nbformat": 4,
 "nbformat_minor": 5
}
